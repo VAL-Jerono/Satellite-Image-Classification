{
 "cells": [
  {
   "cell_type": "markdown",
   "metadata": {},
   "source": [
    "Satellite Image Classification"
   ]
  },
  {
   "cell_type": "code",
   "execution_count": null,
   "metadata": {},
   "outputs": [],
   "source": [
    "\n",
    "!pip install kagglehub\n"
   ]
  },
  {
   "cell_type": "code",
   "execution_count": null,
   "metadata": {},
   "outputs": [],
   "source": [
    "!pip install torch torchvision torchaudio\n"
   ]
  },
  {
   "cell_type": "code",
   "execution_count": null,
   "metadata": {},
   "outputs": [],
   "source": [
    "import os\n",
    "import torch\n",
    "from torchvision import datasets, transforms\n",
    "from torch.utils.data import DataLoader\n",
    "\n",
    "# Define the root data directory\n",
    "data_dir = \"data\"  # Make sure this path is correct\n",
    "\n",
    "# Define transformations for image preprocessing\n",
    "transform = transforms.Compose([\n",
    "    transforms.Resize((256, 256)),  # Resize images\n",
    "    transforms.ToTensor(),  # Convert to PyTorch tensors\n",
    "    transforms.Normalize([0.5, 0.5, 0.5], [0.5, 0.5, 0.5])  # Normalize (optional)\n",
    "])\n",
    "\n",
    "# Load dataset from folders\n",
    "dataset = datasets.ImageFolder(root=data_dir, transform=transform)\n",
    "\n",
    "# Create a DataLoader for batching\n",
    "dataloader = DataLoader(dataset, batch_size=32, shuffle=True)\n",
    "\n",
    "# Print class names\n",
    "print(\"Classes:\", dataset.classes)\n",
    "\n",
    "# Check a sample image\n",
    "images, labels = next(iter(dataloader))\n",
    "print(\"Batch shape:\", images.shape)\n"
   ]
  },
  {
   "cell_type": "markdown",
   "metadata": {},
   "source": [
    "1️⃣ Understanding the Dataset Structure\n",
    "\n",
    "* data/\n",
    "* │── cloudy/         # Contains cloudy sky images\n",
    "* │── desert/         # Contains desert landscape images\n",
    "* │── green_area/     # Contains green vegetation images\n",
    "* │── water/          # Contains water bodies images\n",
    "\n",
    "- Each folder represents a class label.\n",
    "- Images are automatically labeled based on folder names."
   ]
  },
  {
   "cell_type": "markdown",
   "metadata": {},
   "source": [
    "2️⃣ Check Dataset Distribution\n",
    "\n",
    "- Before training, we should check if the classes are balanced (i.e., each category has a similar number of images).\n",
    "- We can count the number of images in each category."
   ]
  },
  {
   "cell_type": "markdown",
   "metadata": {},
   "source": []
  },
  {
   "cell_type": "code",
   "execution_count": null,
   "metadata": {},
   "outputs": [],
   "source": [
    "from collections import Counter\n",
    "\n",
    "# Count images in each class\n",
    "class_counts = Counter([label for _, label in dataset])\n",
    "\n",
    "# Print class distribution\n",
    "for class_name, count in zip(dataset.classes, class_counts.values()):\n",
    "    print(f\"{class_name}: {count} images\")\n"
   ]
  },
  {
   "cell_type": "code",
   "execution_count": null,
   "metadata": {},
   "outputs": [],
   "source": [
    "import matplotlib.pyplot as plt\n",
    "import numpy as np\n",
    "\n",
    "# Get one batch of images and labels\n",
    "images, labels = next(iter(dataloader))\n",
    "\n",
    "# Convert images from tensor to NumPy for visualization\n",
    "images = images.permute(0, 2, 3, 1).numpy()  # Change shape to (batch, height, width, channels)\n",
    "\n",
    "# Plot 8 sample images\n",
    "fig, axes = plt.subplots(2, 4, figsize=(12, 6))\n",
    "axes = axes.flatten()\n",
    "\n",
    "for img, label, ax in zip(images[:8], labels[:8], axes):\n",
    "    ax.imshow((img * 0.5) + 0.5)  # Unnormalize the image\n",
    "    ax.set_title(f\"Class: {dataset.classes[label]}\")\n",
    "    ax.axis(\"off\")\n",
    "\n",
    "plt.tight_layout()\n",
    "plt.show()\n"
   ]
  }
 ],
 "metadata": {
  "kernelspec": {
   "display_name": "base",
   "language": "python",
   "name": "python3"
  },
  "language_info": {
   "codemirror_mode": {
    "name": "ipython",
    "version": 3
   },
   "file_extension": ".py",
   "mimetype": "text/x-python",
   "name": "python",
   "nbconvert_exporter": "python",
   "pygments_lexer": "ipython3",
   "version": "3.11.7"
  }
 },
 "nbformat": 4,
 "nbformat_minor": 2
}
